{
 "cells": [
  {
   "cell_type": "markdown",
   "metadata": {},
   "source": [
    "# Cyber Security And Artificial Intelligence\n",
    "# HW1"
   ]
  },
  {
   "cell_type": "markdown",
   "metadata": {},
   "source": [
    "## Installations "
   ]
  },
  {
   "cell_type": "code",
   "execution_count": 1,
   "metadata": {},
   "outputs": [
    {
     "name": "stdout",
     "output_type": "stream",
     "text": [
      "install sklearn if not installed\n",
      "Requirement already satisfied: sklearn in c:\\users\\usser\\appdata\\local\\programs\\python\\python39\\lib\\site-packages (0.0)\n",
      "Requirement already satisfied: scikit-learn in c:\\users\\usser\\appdata\\local\\programs\\python\\python39\\lib\\site-packages (from sklearn) (0.24.2)\n",
      "Requirement already satisfied: joblib>=0.11 in c:\\users\\usser\\appdata\\local\\programs\\python\\python39\\lib\\site-packages (from scikit-learn->sklearn) (1.0.1)\n",
      "Requirement already satisfied: threadpoolctl>=2.0.0 in c:\\users\\usser\\appdata\\local\\programs\\python\\python39\\lib\\site-packages (from scikit-learn->sklearn) (2.2.0)\n",
      "Requirement already satisfied: numpy>=1.13.3 in c:\\users\\usser\\appdata\\local\\programs\\python\\python39\\lib\\site-packages (from scikit-learn->sklearn) (1.20.1)\n",
      "Requirement already satisfied: scipy>=0.19.1 in c:\\users\\usser\\appdata\\local\\programs\\python\\python39\\lib\\site-packages (from scikit-learn->sklearn) (1.7.0)\n",
      "install ember if not installed\n"
     ]
    },
    {
     "name": "stderr",
     "output_type": "stream",
     "text": [
      "WARNING: You are using pip version 21.3.1; however, version 22.0.4 is available.\n",
      "You should consider upgrading via the 'c:\\users\\usser\\appdata\\local\\programs\\python\\python39\\python.exe -m pip install --upgrade pip' command.\n"
     ]
    },
    {
     "name": "stdout",
     "output_type": "stream",
     "text": [
      "Collecting git+https://github.com/elastic/ember.git\n",
      "  Cloning https://github.com/elastic/ember.git to c:\\users\\usser\\appdata\\local\\temp\\pip-req-build-4rha00o_\n",
      "  Resolved https://github.com/elastic/ember.git to commit 4dee42918694d72d319e731940755146a71f5c6c\n",
      "  Preparing metadata (setup.py): started\n",
      "  Preparing metadata (setup.py): finished with status 'done'\n",
      "Requirement already satisfied: lief>=0.9.0 in c:\\users\\usser\\appdata\\local\\programs\\python\\python39\\lib\\site-packages (from ember==0.1.0) (0.12.0)\n",
      "Requirement already satisfied: tqdm>=4.31.0 in c:\\users\\usser\\appdata\\local\\programs\\python\\python39\\lib\\site-packages (from ember==0.1.0) (4.61.2)\n",
      "Requirement already satisfied: numpy>=1.16.3 in c:\\users\\usser\\appdata\\local\\programs\\python\\python39\\lib\\site-packages (from ember==0.1.0) (1.20.1)\n",
      "Requirement already satisfied: pandas>=0.24.2 in c:\\users\\usser\\appdata\\local\\programs\\python\\python39\\lib\\site-packages (from ember==0.1.0) (1.3.2)\n",
      "Requirement already satisfied: lightgbm>=2.2.3 in c:\\users\\usser\\appdata\\local\\programs\\python\\python39\\lib\\site-packages (from ember==0.1.0) (3.2.1)\n",
      "Requirement already satisfied: scikit-learn>=0.20.3 in c:\\users\\usser\\appdata\\local\\programs\\python\\python39\\lib\\site-packages (from ember==0.1.0) (0.24.2)\n",
      "Requirement already satisfied: wheel in c:\\users\\usser\\appdata\\local\\programs\\python\\python39\\lib\\site-packages (from lightgbm>=2.2.3->ember==0.1.0) (0.37.0)\n",
      "Requirement already satisfied: scipy in c:\\users\\usser\\appdata\\local\\programs\\python\\python39\\lib\\site-packages (from lightgbm>=2.2.3->ember==0.1.0) (1.7.0)\n",
      "Requirement already satisfied: pytz>=2017.3 in c:\\users\\usser\\appdata\\local\\programs\\python\\python39\\lib\\site-packages (from pandas>=0.24.2->ember==0.1.0) (2021.1)\n",
      "Requirement already satisfied: python-dateutil>=2.7.3 in c:\\users\\usser\\appdata\\local\\programs\\python\\python39\\lib\\site-packages (from pandas>=0.24.2->ember==0.1.0) (2.8.1)\n",
      "Requirement already satisfied: joblib>=0.11 in c:\\users\\usser\\appdata\\local\\programs\\python\\python39\\lib\\site-packages (from scikit-learn>=0.20.3->ember==0.1.0) (1.0.1)\n",
      "Requirement already satisfied: threadpoolctl>=2.0.0 in c:\\users\\usser\\appdata\\local\\programs\\python\\python39\\lib\\site-packages (from scikit-learn>=0.20.3->ember==0.1.0) (2.2.0)\n",
      "Requirement already satisfied: colorama in c:\\users\\usser\\appdata\\local\\programs\\python\\python39\\lib\\site-packages (from tqdm>=4.31.0->ember==0.1.0) (0.4.4)\n",
      "Requirement already satisfied: six>=1.5 in c:\\users\\usser\\appdata\\local\\programs\\python\\python39\\lib\\site-packages (from python-dateutil>=2.7.3->pandas>=0.24.2->ember==0.1.0) (1.15.0)\n"
     ]
    },
    {
     "name": "stderr",
     "output_type": "stream",
     "text": [
      "  Running command git clone --filter=blob:none -q https://github.com/elastic/ember.git 'C:\\Users\\USSeR\\AppData\\Local\\Temp\\pip-req-build-4rha00o_'\n",
      "WARNING: You are using pip version 21.3.1; however, version 22.0.4 is available.\n",
      "You should consider upgrading via the 'c:\\users\\usser\\appdata\\local\\programs\\python\\python39\\python.exe -m pip install --upgrade pip' command.\n"
     ]
    }
   ],
   "source": [
    "import sys\n",
    "print(f'install sklearn if not installed')\n",
    "!{sys.executable} -m pip install sklearn\n",
    "print(f'install ember if not installed')\n",
    "!{sys.executable} -m pip install git+https://github.com/elastic/ember.git"
   ]
  },
  {
   "cell_type": "markdown",
   "metadata": {},
   "source": [
    "## Imports & Preparations"
   ]
  },
  {
   "cell_type": "markdown",
   "metadata": {},
   "source": [
    "### Imports"
   ]
  },
  {
   "cell_type": "code",
   "execution_count": 110,
   "metadata": {},
   "outputs": [],
   "source": [
    "# math \n",
    "import math\n",
    "import numpy as np\n",
    "np.random.seed(0)\n",
    "import pandas as pd\n",
    "from scipy import stats\n",
    "from scipy.stats import geom\n",
    "\n",
    "# plotting\n",
    "import matplotlib.pyplot as plt\n",
    "import seaborn as sns\n",
    "from matplotlib.gridspec import GridSpec\n",
    "\n",
    "# general\n",
    "import time\n",
    "import json\n",
    "import ast\n",
    "\n",
    "# EMBER\n",
    "import ember"
   ]
  },
  {
   "cell_type": "code",
   "execution_count": 35,
   "metadata": {},
   "outputs": [],
   "source": [
    "folder_path = r'C:\\\\Users\\\\USSeR\\\\Downloads\\\\ember_dataset_2018_2\\\\ember2018\\\\' # /Users/royrubin/Downloads/ember2018/"
   ]
  },
  {
   "cell_type": "markdown",
   "metadata": {},
   "source": [
    "### Create Vectorized Dataset"
   ]
  },
  {
   "cell_type": "code",
   "execution_count": 5,
   "metadata": {},
   "outputs": [
    {
     "name": "stdout",
     "output_type": "stream",
     "text": [
      "WARNING: EMBER feature version 2 were computed using lief version 0.9.0-\n",
      "WARNING:   lief version 0.12.0-f8918911 found instead. There may be slight inconsistencies\n",
      "WARNING:   in the feature calculations.\n",
      "Vectorizing training set\n"
     ]
    },
    {
     "name": "stderr",
     "output_type": "stream",
     "text": [
      "100%|████████████████████████████████████████████████████████████████████████| 800000/800000 [06:10<00:00, 2159.49it/s]\n"
     ]
    },
    {
     "name": "stdout",
     "output_type": "stream",
     "text": [
      "Vectorizing test set\n"
     ]
    },
    {
     "name": "stderr",
     "output_type": "stream",
     "text": [
      "100%|████████████████████████████████████████████████████████████████████████| 200000/200000 [01:28<00:00, 2254.73it/s]"
     ]
    },
    {
     "name": "stdout",
     "output_type": "stream",
     "text": [
      "Wall time: 8min 18s\n"
     ]
    },
    {
     "name": "stderr",
     "output_type": "stream",
     "text": [
      "\n"
     ]
    }
   ],
   "source": [
    "%%time\n",
    "\n",
    "# Takes 2h 40 min\n",
    "ember.create_vectorized_features(folder_path)"
   ]
  },
  {
   "cell_type": "markdown",
   "metadata": {},
   "source": [
    "### Get \"Metadata\""
   ]
  },
  {
   "cell_type": "code",
   "execution_count": 6,
   "metadata": {},
   "outputs": [
    {
     "name": "stdout",
     "output_type": "stream",
     "text": [
      "Wall time: 3min 39s\n"
     ]
    },
    {
     "data": {
      "text/html": [
       "<div>\n",
       "<style scoped>\n",
       "    .dataframe tbody tr th:only-of-type {\n",
       "        vertical-align: middle;\n",
       "    }\n",
       "\n",
       "    .dataframe tbody tr th {\n",
       "        vertical-align: top;\n",
       "    }\n",
       "\n",
       "    .dataframe thead th {\n",
       "        text-align: right;\n",
       "    }\n",
       "</style>\n",
       "<table border=\"1\" class=\"dataframe\">\n",
       "  <thead>\n",
       "    <tr style=\"text-align: right;\">\n",
       "      <th></th>\n",
       "      <th>sha256</th>\n",
       "      <th>appeared</th>\n",
       "      <th>label</th>\n",
       "      <th>avclass</th>\n",
       "      <th>subset</th>\n",
       "    </tr>\n",
       "  </thead>\n",
       "  <tbody>\n",
       "    <tr>\n",
       "      <th>0</th>\n",
       "      <td>0abb4fda7d5b13801d63bee53e5e256be43e141faa077a...</td>\n",
       "      <td>2006-12</td>\n",
       "      <td>0</td>\n",
       "      <td></td>\n",
       "      <td>train</td>\n",
       "    </tr>\n",
       "    <tr>\n",
       "      <th>1</th>\n",
       "      <td>c9cafff8a596ba8a80bafb4ba8ae6f2ef3329d95b85f15...</td>\n",
       "      <td>2007-01</td>\n",
       "      <td>0</td>\n",
       "      <td></td>\n",
       "      <td>train</td>\n",
       "    </tr>\n",
       "    <tr>\n",
       "      <th>2</th>\n",
       "      <td>eac8ddb4970f8af985742973d6f0e06902d42a3684d791...</td>\n",
       "      <td>2007-02</td>\n",
       "      <td>0</td>\n",
       "      <td></td>\n",
       "      <td>train</td>\n",
       "    </tr>\n",
       "    <tr>\n",
       "      <th>3</th>\n",
       "      <td>7f513818bcc276c531af2e641c597744da807e21cc1160...</td>\n",
       "      <td>2007-02</td>\n",
       "      <td>0</td>\n",
       "      <td></td>\n",
       "      <td>train</td>\n",
       "    </tr>\n",
       "    <tr>\n",
       "      <th>4</th>\n",
       "      <td>ca65e1c387a4cc9e7d8a8ce12bf1bcf9f534c9032b9d95...</td>\n",
       "      <td>2007-02</td>\n",
       "      <td>0</td>\n",
       "      <td></td>\n",
       "      <td>train</td>\n",
       "    </tr>\n",
       "    <tr>\n",
       "      <th>...</th>\n",
       "      <td>...</td>\n",
       "      <td>...</td>\n",
       "      <td>...</td>\n",
       "      <td>...</td>\n",
       "      <td>...</td>\n",
       "    </tr>\n",
       "    <tr>\n",
       "      <th>999995</th>\n",
       "      <td>e033bc4967ce64bbb5cafdb234372099395185a6e0280c...</td>\n",
       "      <td>2018-12</td>\n",
       "      <td>1</td>\n",
       "      <td>zbot</td>\n",
       "      <td>test</td>\n",
       "    </tr>\n",
       "    <tr>\n",
       "      <th>999996</th>\n",
       "      <td>c7d16736fd905f5fbe4530670b1fe787eb12ee86536380...</td>\n",
       "      <td>2018-12</td>\n",
       "      <td>1</td>\n",
       "      <td>flystudio</td>\n",
       "      <td>test</td>\n",
       "    </tr>\n",
       "    <tr>\n",
       "      <th>999997</th>\n",
       "      <td>0020077cb673729209d88b603bddf56b925b18e682892a...</td>\n",
       "      <td>2018-12</td>\n",
       "      <td>0</td>\n",
       "      <td></td>\n",
       "      <td>test</td>\n",
       "    </tr>\n",
       "    <tr>\n",
       "      <th>999998</th>\n",
       "      <td>1b7e7c8febabf70d1c17fe3c7abf80f33003581c380f28...</td>\n",
       "      <td>2018-12</td>\n",
       "      <td>0</td>\n",
       "      <td></td>\n",
       "      <td>test</td>\n",
       "    </tr>\n",
       "    <tr>\n",
       "      <th>999999</th>\n",
       "      <td>836063f2312b597632bca1f738e68e4d23f672d587a7fc...</td>\n",
       "      <td>2018-12</td>\n",
       "      <td>1</td>\n",
       "      <td>emotet</td>\n",
       "      <td>test</td>\n",
       "    </tr>\n",
       "  </tbody>\n",
       "</table>\n",
       "<p>1000000 rows × 5 columns</p>\n",
       "</div>"
      ],
      "text/plain": [
       "                                                   sha256 appeared  label  \\\n",
       "0       0abb4fda7d5b13801d63bee53e5e256be43e141faa077a...  2006-12      0   \n",
       "1       c9cafff8a596ba8a80bafb4ba8ae6f2ef3329d95b85f15...  2007-01      0   \n",
       "2       eac8ddb4970f8af985742973d6f0e06902d42a3684d791...  2007-02      0   \n",
       "3       7f513818bcc276c531af2e641c597744da807e21cc1160...  2007-02      0   \n",
       "4       ca65e1c387a4cc9e7d8a8ce12bf1bcf9f534c9032b9d95...  2007-02      0   \n",
       "...                                                   ...      ...    ...   \n",
       "999995  e033bc4967ce64bbb5cafdb234372099395185a6e0280c...  2018-12      1   \n",
       "999996  c7d16736fd905f5fbe4530670b1fe787eb12ee86536380...  2018-12      1   \n",
       "999997  0020077cb673729209d88b603bddf56b925b18e682892a...  2018-12      0   \n",
       "999998  1b7e7c8febabf70d1c17fe3c7abf80f33003581c380f28...  2018-12      0   \n",
       "999999  836063f2312b597632bca1f738e68e4d23f672d587a7fc...  2018-12      1   \n",
       "\n",
       "          avclass subset  \n",
       "0                  train  \n",
       "1                  train  \n",
       "2                  train  \n",
       "3                  train  \n",
       "4                  train  \n",
       "...           ...    ...  \n",
       "999995       zbot   test  \n",
       "999996  flystudio   test  \n",
       "999997              test  \n",
       "999998              test  \n",
       "999999     emotet   test  \n",
       "\n",
       "[1000000 rows x 5 columns]"
      ]
     },
     "execution_count": 6,
     "metadata": {},
     "output_type": "execute_result"
    }
   ],
   "source": [
    "%%time\n",
    "\n",
    "# takes 32 mins \n",
    "ember.create_metadata(folder_path)"
   ]
  },
  {
   "cell_type": "code",
   "execution_count": 7,
   "metadata": {},
   "outputs": [],
   "source": [
    "## Perform EDA on metadata"
   ]
  },
  {
   "cell_type": "code",
   "execution_count": 8,
   "metadata": {},
   "outputs": [],
   "source": [
    "metadata_dataframe = ember.read_metadata(folder_path)"
   ]
  },
  {
   "cell_type": "code",
   "execution_count": 9,
   "metadata": {},
   "outputs": [
    {
     "name": "stdout",
     "output_type": "stream",
     "text": [
      "(1000000, 5)\n"
     ]
    },
    {
     "data": {
      "text/html": [
       "<div>\n",
       "<style scoped>\n",
       "    .dataframe tbody tr th:only-of-type {\n",
       "        vertical-align: middle;\n",
       "    }\n",
       "\n",
       "    .dataframe tbody tr th {\n",
       "        vertical-align: top;\n",
       "    }\n",
       "\n",
       "    .dataframe thead th {\n",
       "        text-align: right;\n",
       "    }\n",
       "</style>\n",
       "<table border=\"1\" class=\"dataframe\">\n",
       "  <thead>\n",
       "    <tr style=\"text-align: right;\">\n",
       "      <th></th>\n",
       "      <th>sha256</th>\n",
       "      <th>appeared</th>\n",
       "      <th>label</th>\n",
       "      <th>avclass</th>\n",
       "      <th>subset</th>\n",
       "    </tr>\n",
       "  </thead>\n",
       "  <tbody>\n",
       "    <tr>\n",
       "      <th>0</th>\n",
       "      <td>0abb4fda7d5b13801d63bee53e5e256be43e141faa077a...</td>\n",
       "      <td>2006-12</td>\n",
       "      <td>0</td>\n",
       "      <td>NaN</td>\n",
       "      <td>train</td>\n",
       "    </tr>\n",
       "    <tr>\n",
       "      <th>1</th>\n",
       "      <td>c9cafff8a596ba8a80bafb4ba8ae6f2ef3329d95b85f15...</td>\n",
       "      <td>2007-01</td>\n",
       "      <td>0</td>\n",
       "      <td>NaN</td>\n",
       "      <td>train</td>\n",
       "    </tr>\n",
       "    <tr>\n",
       "      <th>2</th>\n",
       "      <td>eac8ddb4970f8af985742973d6f0e06902d42a3684d791...</td>\n",
       "      <td>2007-02</td>\n",
       "      <td>0</td>\n",
       "      <td>NaN</td>\n",
       "      <td>train</td>\n",
       "    </tr>\n",
       "    <tr>\n",
       "      <th>3</th>\n",
       "      <td>7f513818bcc276c531af2e641c597744da807e21cc1160...</td>\n",
       "      <td>2007-02</td>\n",
       "      <td>0</td>\n",
       "      <td>NaN</td>\n",
       "      <td>train</td>\n",
       "    </tr>\n",
       "    <tr>\n",
       "      <th>4</th>\n",
       "      <td>ca65e1c387a4cc9e7d8a8ce12bf1bcf9f534c9032b9d95...</td>\n",
       "      <td>2007-02</td>\n",
       "      <td>0</td>\n",
       "      <td>NaN</td>\n",
       "      <td>train</td>\n",
       "    </tr>\n",
       "  </tbody>\n",
       "</table>\n",
       "</div>"
      ],
      "text/plain": [
       "                                              sha256 appeared  label avclass  \\\n",
       "0  0abb4fda7d5b13801d63bee53e5e256be43e141faa077a...  2006-12      0     NaN   \n",
       "1  c9cafff8a596ba8a80bafb4ba8ae6f2ef3329d95b85f15...  2007-01      0     NaN   \n",
       "2  eac8ddb4970f8af985742973d6f0e06902d42a3684d791...  2007-02      0     NaN   \n",
       "3  7f513818bcc276c531af2e641c597744da807e21cc1160...  2007-02      0     NaN   \n",
       "4  ca65e1c387a4cc9e7d8a8ce12bf1bcf9f534c9032b9d95...  2007-02      0     NaN   \n",
       "\n",
       "  subset  \n",
       "0  train  \n",
       "1  train  \n",
       "2  train  \n",
       "3  train  \n",
       "4  train  "
      ]
     },
     "execution_count": 9,
     "metadata": {},
     "output_type": "execute_result"
    }
   ],
   "source": [
    "print(metadata_dataframe.shape)\n",
    "metadata_dataframe.head(5)"
   ]
  },
  {
   "cell_type": "code",
   "execution_count": 10,
   "metadata": {},
   "outputs": [
    {
     "name": "stdout",
     "output_type": "stream",
     "text": [
      "data_subset \n",
      "{'train': 800000, 'test': 200000}\n"
     ]
    },
    {
     "data": {
      "text/plain": [
       "Text(0.5, 1.0, 'data_subset')"
      ]
     },
     "execution_count": 10,
     "metadata": {},
     "output_type": "execute_result"
    },
    {
     "data": {
      "image/png": "[encoded data removed]",
      "text/plain": [
       "<Figure size 432x288 with 1 Axes>"
      ]
     },
     "metadata": {},
     "output_type": "display_data"
    }
   ],
   "source": [
    "data_subset = metadata_dataframe.subset.value_counts(normalize=False, sort=True).to_dict()  # normalize returns the amount of samples\n",
    "print(f'data_subset \\n{data_subset}')\n",
    "plt.pie(data_subset.values(), labels=data_subset.keys(), autopct=\"%1.1f%%\")\n",
    "plt.title(\"data_subset\")"
   ]
  },
  {
   "cell_type": "code",
   "execution_count": 11,
   "metadata": {},
   "outputs": [
    {
     "name": "stdout",
     "output_type": "stream",
     "text": [
      "label counts \n",
      "{'0 : Benign': 400000, '1 : Malicious': 400000, '-1 : Unlabeled': 200000}\n"
     ]
    },
    {
     "data": {
      "text/plain": [
       "Text(0.5, 1.0, 'Overall labels count')"
      ]
     },
     "execution_count": 11,
     "metadata": {},
     "output_type": "execute_result"
    },
    {
     "data": {
      "image/png": "[encoded data removed]",
      "text/plain": [
       "<Figure size 432x288 with 1 Axes>"
      ]
     },
     "metadata": {},
     "output_type": "display_data"
    }
   ],
   "source": [
    "label_counts = metadata_dataframe.label.value_counts(normalize=False, sort=True).to_dict()  # normalize returns the amount of samples\n",
    "label_counts['0 : Benign'] = label_counts.pop(0)\n",
    "label_counts['1 : Malicious'] = label_counts.pop(1)\n",
    "label_counts['-1 : Unlabeled'] = label_counts.pop(-1)\n",
    "\n",
    "print(f'label counts \\n{label_counts}')\n",
    "plt.pie(label_counts.values(), labels=label_counts.keys(), autopct=\"%1.1f%%\")\n",
    "plt.title(\"Overall labels count\")"
   ]
  },
  {
   "cell_type": "code",
   "execution_count": 12,
   "metadata": {},
   "outputs": [
    {
     "ename": "SyntaxError",
     "evalue": "invalid syntax (Temp/ipykernel_2332/1185235283.py, line 1)",
     "output_type": "error",
     "traceback": [
      "\u001b[1;36m  File \u001b[1;32m\"C:\\Users\\USSeR\\AppData\\Local\\Temp/ipykernel_2332/1185235283.py\"\u001b[1;36m, line \u001b[1;32m1\u001b[0m\n\u001b[1;33m    TODO: make the pie chart above divided by train and test sets ! (maybe even instead of the graph above)\u001b[0m\n\u001b[1;37m               ^\u001b[0m\n\u001b[1;31mSyntaxError\u001b[0m\u001b[1;31m:\u001b[0m invalid syntax\n"
     ]
    }
   ],
   "source": [
    "TODO: make the pie chart above divided by train and test sets ! (maybe even instead of the graph above)"
   ]
  },
  {
   "cell_type": "markdown",
   "metadata": {},
   "source": [
    "## Perform EDA on vectorized data"
   ]
  },
  {
   "cell_type": "code",
   "execution_count": 13,
   "metadata": {},
   "outputs": [
    {
     "name": "stdout",
     "output_type": "stream",
     "text": [
      "WARNING: EMBER feature version 2 were computed using lief version 0.9.0-\n",
      "WARNING:   lief version 0.12.0-f8918911 found instead. There may be slight inconsistencies\n",
      "WARNING:   in the feature calculations.\n",
      "Wall time: 7.01 ms\n"
     ]
    }
   ],
   "source": [
    "%%time\n",
    "X_train, y_train, X_test, y_test = ember.read_vectorized_features(folder_path)"
   ]
  },
  {
   "cell_type": "code",
   "execution_count": 14,
   "metadata": {},
   "outputs": [
    {
     "name": "stdout",
     "output_type": "stream",
     "text": [
      "(800000, 2381)\n"
     ]
    },
    {
     "data": {
      "text/plain": [
       "memmap([[0.01467612, 0.00422187, 0.00392268, 0.00402875, 0.00400715],\n",
       "        [0.18452372, 0.0313075 , 0.00569281, 0.00595852, 0.00814364],\n",
       "        [0.25173673, 0.01420455, 0.00684149, 0.00855602, 0.02349299],\n",
       "        [0.00896443, 0.00405471, 0.00392475, 0.00393569, 0.00403662],\n",
       "        [0.02040114, 0.00521317, 0.00451895, 0.00409687, 0.00423987]],\n",
       "       dtype=float32)"
      ]
     },
     "execution_count": 14,
     "metadata": {},
     "output_type": "execute_result"
    }
   ],
   "source": [
    "print(X_train.shape)\n",
    "X_train[0:5,0:5]"
   ]
  },
  {
   "cell_type": "code",
   "execution_count": 15,
   "metadata": {},
   "outputs": [
    {
     "data": {
      "text/plain": [
       "0.014676122"
      ]
     },
     "execution_count": 15,
     "metadata": {},
     "output_type": "execute_result"
    }
   ],
   "source": [
    "X_train[0,0]"
   ]
  },
  {
   "cell_type": "code",
   "execution_count": 55,
   "metadata": {},
   "outputs": [
    {
     "name": "stdout",
     "output_type": "stream",
     "text": [
      "Performing PCA on train data\n",
      "Wall time: 1min 13s\n"
     ]
    }
   ],
   "source": [
    "%%time\n",
    "\n",
    "from sklearn.decomposition import PCA\n",
    "\n",
    "n_components = 40\n",
    "\n",
    "print(f'Performing PCA on train data')\n",
    "pca = PCA(n_components=n_components).fit(X_train)"
   ]
  },
  {
   "cell_type": "code",
   "execution_count": 56,
   "metadata": {},
   "outputs": [
    {
     "data": {
      "image/png": "[encoded data removed]",
      "text/plain": [
       "<Figure size 1152x576 with 1 Axes>"
      ]
     },
     "metadata": {
      "needs_background": "light"
     },
     "output_type": "display_data"
    }
   ],
   "source": [
    "variance_ratio = pca.explained_variance_ratio_  #assumption: this is already sorted (importent for the cumsum)\n",
    "cumulative_sum = np.cumsum(variance_ratio)\n",
    "plt.figure(0, figsize=(16,8))\n",
    "plt.plot(cumulative_sum)\n",
    "plt.xlabel('number of components')\n",
    "plt.ylabel('cumulative explained variance')\n",
    "plt.xticks(np.arange(0, len(cumulative_sum)+1, 1.0))  \n",
    "plt.grid()\n",
    "plt.show()"
   ]
  },
  {
   "cell_type": "code",
   "execution_count": 57,
   "metadata": {},
   "outputs": [
    {
     "name": "stdout",
     "output_type": "stream",
     "text": [
      "cumulative sum of the first 1 (sorted) componenets is : 0.9145521754664171\n",
      "cumulative sum of the first 2 (sorted) componenets is : 0.9593754388333237\n",
      "cumulative sum of the first 3 (sorted) componenets is : 0.9715890384410013\n",
      "cumulative sum of the first 4 (sorted) componenets is : 0.9793535593247803\n",
      "cumulative sum of the first 5 (sorted) componenets is : 0.9843193763303825\n",
      "cumulative sum of the first 6 (sorted) componenets is : 0.9888164894016142\n",
      "cumulative sum of the first 7 (sorted) componenets is : 0.9919254431994474\n",
      "cumulative sum of the first 8 (sorted) componenets is : 0.9938579641653053\n",
      "cumulative sum of the first 9 (sorted) componenets is : 0.9949741483655369\n",
      "cumulative sum of the first 10 (sorted) componenets is : 0.9958839502606376\n"
     ]
    }
   ],
   "source": [
    "for i in range(1,11):\n",
    "    print(f'(VARIANCE!?!?*****) cumulative sum of the first {i} (sorted) componenets is : {cumulative_sum[i]}')"
   ]
  },
  {
   "cell_type": "code",
   "execution_count": 58,
   "metadata": {},
   "outputs": [],
   "source": [
    "# %%time\n",
    "\n",
    "# colormap = np.array(['blue','red','yellow','orange','purple'])\n",
    "# plt.scatter(principalDf['principal component 1'], principalDf['principal component 2'],c=colormap[model.labels_], s=40)\n",
    "# plt.title('K Mean Classification')\n",
    "# plt.show()"
   ]
  },
  {
   "cell_type": "markdown",
   "metadata": {},
   "source": [
    "## Perform EDA on original data"
   ]
  },
  {
   "cell_type": "markdown",
   "metadata": {},
   "source": [
    "### Features description (from the paper)\n",
    "> 3.2.1 **Parsed features**. The dataset includes five groups\n",
    "of features that are extracted after parsing the PE file. We\n",
    "leverage the Library to Instrument Executable Formats [21]\n",
    "as a convenient PE parser. LIEF names are used for strings\n",
    "that represent symbolic objects, such as characteristics and\n",
    "properties. For some examples of these strings, the reader\n",
    "is referred to Figure 2. Each of the parsed feature types are\n",
    "described in more detail below.\n",
    "\n",
    ">> **General file information**. The set of features in the general file information group includes the file size and basic\n",
    "information obtained from the PE header: the virtual size\n",
    "of the file, the number of imported and exported functions,\n",
    "whether the file has a debug section, thread local storage,\n",
    "resources, relocations, or a signature, and the number of\n",
    "symbols.\n",
    "\n",
    ">> **Header information**. From the COFF header, we report\n",
    "the timestamp in the header, the target machine (string)\n",
    "and a list of image characteristics (list of strings). From the\n",
    "optional header, we provide the target subsystem (string),\n",
    "DLL characteristics (a list of strings), the file magic as\n",
    "a string (e.g., “PE32”), major and minor image versions,\n",
    "linker versions, system versions and subsystem versions,\n",
    "and the code, headers and commit sizes. To create model\n",
    "features, string descriptors such as DLL characteristics,\n",
    "target machine, subsystem, etc. are summarized using the\n",
    "feature hashing trick prior to training a model, with 10 bins\n",
    "allotted for each noisy indicator vector.\n",
    "\n",
    ">> **Imported functions**. We parse the import address table\n",
    "and report the imported functions by library. To create\n",
    "model features for the baseline model, we simply collect\n",
    "the set of unique libraries and use the hashing trick to\n",
    "sketch the set (256 bins). Similarly, we use the hashing trick\n",
    "(1024 bins) to capture individual functions, by representing\n",
    "each as a string such as library:FunctionName pair (e.g.,\n",
    "kernel32.dll:CreateFileMappingA).\n",
    "\n",
    ">> **Exported functions**. The raw features include a list of\n",
    "the exported functions. These strings are summarized into\n",
    "model features using the hashing trick with 128 bins.\n",
    "\n",
    ">> **Section information**. Properties of each section are provided and include the name, size, entropy, virtual size, and\n",
    "a list of strings representing section characteristics. The entry point is specified by name. To convert to model features,\n",
    "we use the hashing trick on (section name, value) pairs to\n",
    "create vectors containing section size, section entropy, and\n",
    "virtual size (50 bins each). We also use the hashing trick\n",
    "to capture the characteristics (list of strings) for the entry\n",
    "point.\n",
    "\n",
    "> 3.2.2 **Format-agnostic features**. The EMBER dataset also\n",
    "includes three groups of features that are format agnostic,\n",
    "in that they do not require parsing of the PE file for extraction: a raw byte histogram, byte entropy histogram based\n",
    "on work previously published in [26], and string extraction.\n",
    "\n",
    ">> **Byte histogram**. The byte histogram contains 256 integer\n",
    "values, representing the counts of each byte value within\n",
    "the file. When generating model features, this byte histogram is normalized to a distribution, since the file size is\n",
    "represented as a feature in the general file information.\n",
    "\n",
    ">> **Byte-entropy histogram**. The byte entropy histogram approximates the joint distribution p(H,X) of entropy H and\n",
    "byte value X. This is done as described in [26], by computing the scalar entropy H for a fixed-length window and\n",
    "pairing it with each byte occurrence within the window.\n",
    "This is repeated as the window slides across the input bytes.\n",
    "In our implementation, we use a window size of 2048 and\n",
    "a step size of 1024 bytes, with 16 × 16 bins that quantize\n",
    "entropy and the byte value. Before training, we normalize\n",
    "these counts to sum to unity.\n",
    "\n",
    ">> **String information**. The dataset includes simple statistics about printable strings (consisting of characters in the\n",
    "range 0x20 to 0x7f, inclusive) that are at least five printable characters long. In particular, reported are the number\n",
    "of strings, their average length, a histogram of the printable characters within those strings, and the entropy of\n",
    "characters across all printable strings. The printable characters distribution provides distinct information from the\n",
    "byte histogram information above since it is derived only\n",
    "from strings containing at least five consecutive printable\n",
    "characters. In addition, the string feature group includes\n",
    "the number of strings that begin with C:\\ (case insensitive)\n",
    "that may indicate a path, the number of occurrences of\n",
    "http:// or https:// (case insensitive) that may indicate a\n",
    "URL, the number of occurrences of HKEY_ that may indicate\n",
    "a registry key, and the number of occurrences of the short\n",
    "string MZ that may provide weak evidence of a Windows\n",
    "PE dropper or bundled executables. By providing a simple\n",
    "statistical summary of strings rather than a listing of raw\n",
    "strings, we mitigate privacy concerns that may exist for\n",
    "some benign files"
   ]
  },
  {
   "cell_type": "markdown",
   "metadata": {},
   "source": [
    "### Create original unvectorized dataset [performed once, takes 20~ minutes on strong computer] "
   ]
  },
  {
   "cell_type": "code",
   "execution_count": 38,
   "metadata": {},
   "outputs": [],
   "source": [
    "def read_all_data():\n",
    "    print(f'** Starting to read all data **')\n",
    "    print(f'tesing - folder path {folder_path}')\n",
    "    filenames = [\n",
    "        'train_features_0.jsonl',\n",
    "        'train_features_1.jsonl',\n",
    "        'train_features_2.jsonl',\n",
    "        'train_features_3.jsonl',\n",
    "        'train_features_4.jsonl',\n",
    "        'train_features_5.jsonl',\n",
    "    ]\n",
    "\n",
    "    df = None\n",
    "    for filename in filenames:\n",
    "        ##\n",
    "        print(f'\\nreading {filename}')\n",
    "        start = time.time()\n",
    "        temp_df = pd.read_json(folder_path+filename, lines=True)\n",
    "        end = time.time()\n",
    "        print(f'performed in {(end - start) / 60} minutes')\n",
    "        print(f'temp_df.shape {temp_df.shape}')\n",
    "        \n",
    "        ##\n",
    "        print(f'concatanating {filename}')\n",
    "        start = time.time()\n",
    "        if df is None:\n",
    "            df = temp_df\n",
    "        else:\n",
    "            df = pd.concat([df, temp_df], axis=0, ignore_index=True)\n",
    "        \n",
    "        end = time.time()\n",
    "        print(f'performed in {(end - start) / 60} minutes')\n",
    "        del temp_df\n",
    "    \n",
    "    # Finished reading all files !\n",
    "    print(f'Finished reading all files !')\n",
    "    df.to_csv(f'{folder_path}_new_df.csv')\n",
    "    return df"
   ]
  },
  {
   "cell_type": "code",
   "execution_count": null,
   "metadata": {},
   "outputs": [],
   "source": [
    "# %%time\n",
    "\n",
    "# column = 'label'\n",
    "# df = read_all_data()"
   ]
  },
  {
   "cell_type": "markdown",
   "metadata": {},
   "source": [
    "### Load the prepared df"
   ]
  },
  {
   "cell_type": "code",
   "execution_count": 59,
   "metadata": {},
   "outputs": [
    {
     "name": "stdout",
     "output_type": "stream",
     "text": [
      "Wall time: 1min 1s\n"
     ]
    }
   ],
   "source": [
    "%%time\n",
    "df = pd.read_csv(f'{folder_path}\\\\concatanated_original_train_df.csv')"
   ]
  },
  {
   "cell_type": "markdown",
   "metadata": {},
   "source": [
    "# TODO: add the label to the dataframe !?"
   ]
  },
  {
   "cell_type": "markdown",
   "metadata": {},
   "source": [
    "#### Start exploring the df"
   ]
  },
  {
   "cell_type": "code",
   "execution_count": 60,
   "metadata": {},
   "outputs": [
    {
     "data": {
      "text/plain": [
       "(800000, 15)"
      ]
     },
     "execution_count": 60,
     "metadata": {},
     "output_type": "execute_result"
    }
   ],
   "source": [
    "df.shape"
   ]
  },
  {
   "cell_type": "code",
   "execution_count": null,
   "metadata": {},
   "outputs": [],
   "source": [
    "flattened_general_df.info(verbose=True)"
   ]
  },
  {
   "cell_type": "code",
   "execution_count": null,
   "metadata": {},
   "outputs": [],
   "source": [
    "flattened_general_df.describe(include='all')"
   ]
  },
  {
   "cell_type": "code",
   "execution_count": 61,
   "metadata": {},
   "outputs": [
    {
     "data": {
      "text/html": [
       "<div>\n",
       "<style scoped>\n",
       "    .dataframe tbody tr th:only-of-type {\n",
       "        vertical-align: middle;\n",
       "    }\n",
       "\n",
       "    .dataframe tbody tr th {\n",
       "        vertical-align: top;\n",
       "    }\n",
       "\n",
       "    .dataframe thead th {\n",
       "        text-align: right;\n",
       "    }\n",
       "</style>\n",
       "<table border=\"1\" class=\"dataframe\">\n",
       "  <thead>\n",
       "    <tr style=\"text-align: right;\">\n",
       "      <th></th>\n",
       "      <th>Unnamed: 0</th>\n",
       "      <th>sha256</th>\n",
       "      <th>md5</th>\n",
       "      <th>appeared</th>\n",
       "      <th>label</th>\n",
       "      <th>avclass</th>\n",
       "      <th>histogram</th>\n",
       "      <th>byteentropy</th>\n",
       "      <th>strings</th>\n",
       "      <th>general</th>\n",
       "      <th>header</th>\n",
       "      <th>section</th>\n",
       "      <th>imports</th>\n",
       "      <th>exports</th>\n",
       "      <th>datadirectories</th>\n",
       "    </tr>\n",
       "  </thead>\n",
       "  <tbody>\n",
       "    <tr>\n",
       "      <th>0</th>\n",
       "      <td>0</td>\n",
       "      <td>0abb4fda7d5b13801d63bee53e5e256be43e141faa077a...</td>\n",
       "      <td>63956d6417f8f43357d9a8e79e52257e</td>\n",
       "      <td>2006-12</td>\n",
       "      <td>0</td>\n",
       "      <td>NaN</td>\n",
       "      <td>[45521, 13095, 12167, 12496, 12429, 11709, 118...</td>\n",
       "      <td>[0, 0, 0, 0, 0, 0, 0, 0, 0, 0, 0, 0, 0, 0, 0, ...</td>\n",
       "      <td>{'numstrings': 14573, 'avlength': 5.9720716393...</td>\n",
       "      <td>{'size': 3101705, 'vsize': 380928, 'has_debug'...</td>\n",
       "      <td>{'coff': {'timestamp': 1124149349, 'machine': ...</td>\n",
       "      <td>{'entry': '.text', 'sections': [{'name': '.tex...</td>\n",
       "      <td>{'KERNEL32.dll': ['SetFileTime', 'CompareFileT...</td>\n",
       "      <td>[]</td>\n",
       "      <td>[{'name': 'EXPORT_TABLE', 'size': 0, 'virtual_...</td>\n",
       "    </tr>\n",
       "    <tr>\n",
       "      <th>1</th>\n",
       "      <td>1</td>\n",
       "      <td>c9cafff8a596ba8a80bafb4ba8ae6f2ef3329d95b85f15...</td>\n",
       "      <td>6f7bde7a1126debf0cc359a54953efc1</td>\n",
       "      <td>2007-01</td>\n",
       "      <td>0</td>\n",
       "      <td>NaN</td>\n",
       "      <td>[93059, 15789, 2871, 3005, 4107, 1771, 2918, 4...</td>\n",
       "      <td>[47100, 2, 0, 0, 0, 0, 2, 0, 0, 0, 0, 0, 0, 0,...</td>\n",
       "      <td>{'numstrings': 1803, 'avlength': 11.1913477537...</td>\n",
       "      <td>{'size': 504320, 'vsize': 524288, 'has_debug':...</td>\n",
       "      <td>{'coff': {'timestamp': 1091600092, 'machine': ...</td>\n",
       "      <td>{'entry': '.text', 'sections': [{'name': '.tex...</td>\n",
       "      <td>{'ADVAPI32.dll': ['ConvertStringSecurityDescri...</td>\n",
       "      <td>[]</td>\n",
       "      <td>[{'name': 'EXPORT_TABLE', 'size': 0, 'virtual_...</td>\n",
       "    </tr>\n",
       "    <tr>\n",
       "      <th>2</th>\n",
       "      <td>2</td>\n",
       "      <td>eac8ddb4970f8af985742973d6f0e06902d42a3684d791...</td>\n",
       "      <td>7520c8f9534ca818726a4feaebf49e2b</td>\n",
       "      <td>2007-02</td>\n",
       "      <td>0</td>\n",
       "      <td>NaN</td>\n",
       "      <td>[45369, 2560, 1233, 1542, 4234, 515, 613, 1542...</td>\n",
       "      <td>[6144, 0, 0, 0, 0, 0, 0, 0, 0, 0, 0, 0, 0, 0, ...</td>\n",
       "      <td>{'numstrings': 1238, 'avlength': 12.0201938610...</td>\n",
       "      <td>{'size': 180224, 'vsize': 180224, 'has_debug':...</td>\n",
       "      <td>{'coff': {'timestamp': 892092777, 'machine': '...</td>\n",
       "      <td>{'entry': '.text', 'sections': [{'name': '.tex...</td>\n",
       "      <td>{'ADVAPI32.dll': ['RegSetValueExA', 'RegDelete...</td>\n",
       "      <td>[]</td>\n",
       "      <td>[{'name': 'EXPORT_TABLE', 'size': 0, 'virtual_...</td>\n",
       "    </tr>\n",
       "  </tbody>\n",
       "</table>\n",
       "</div>"
      ],
      "text/plain": [
       "   Unnamed: 0                                             sha256  \\\n",
       "0           0  0abb4fda7d5b13801d63bee53e5e256be43e141faa077a...   \n",
       "1           1  c9cafff8a596ba8a80bafb4ba8ae6f2ef3329d95b85f15...   \n",
       "2           2  eac8ddb4970f8af985742973d6f0e06902d42a3684d791...   \n",
       "\n",
       "                                md5 appeared  label avclass  \\\n",
       "0  63956d6417f8f43357d9a8e79e52257e  2006-12      0     NaN   \n",
       "1  6f7bde7a1126debf0cc359a54953efc1  2007-01      0     NaN   \n",
       "2  7520c8f9534ca818726a4feaebf49e2b  2007-02      0     NaN   \n",
       "\n",
       "                                           histogram  \\\n",
       "0  [45521, 13095, 12167, 12496, 12429, 11709, 118...   \n",
       "1  [93059, 15789, 2871, 3005, 4107, 1771, 2918, 4...   \n",
       "2  [45369, 2560, 1233, 1542, 4234, 515, 613, 1542...   \n",
       "\n",
       "                                         byteentropy  \\\n",
       "0  [0, 0, 0, 0, 0, 0, 0, 0, 0, 0, 0, 0, 0, 0, 0, ...   \n",
       "1  [47100, 2, 0, 0, 0, 0, 2, 0, 0, 0, 0, 0, 0, 0,...   \n",
       "2  [6144, 0, 0, 0, 0, 0, 0, 0, 0, 0, 0, 0, 0, 0, ...   \n",
       "\n",
       "                                             strings  \\\n",
       "0  {'numstrings': 14573, 'avlength': 5.9720716393...   \n",
       "1  {'numstrings': 1803, 'avlength': 11.1913477537...   \n",
       "2  {'numstrings': 1238, 'avlength': 12.0201938610...   \n",
       "\n",
       "                                             general  \\\n",
       "0  {'size': 3101705, 'vsize': 380928, 'has_debug'...   \n",
       "1  {'size': 504320, 'vsize': 524288, 'has_debug':...   \n",
       "2  {'size': 180224, 'vsize': 180224, 'has_debug':...   \n",
       "\n",
       "                                              header  \\\n",
       "0  {'coff': {'timestamp': 1124149349, 'machine': ...   \n",
       "1  {'coff': {'timestamp': 1091600092, 'machine': ...   \n",
       "2  {'coff': {'timestamp': 892092777, 'machine': '...   \n",
       "\n",
       "                                             section  \\\n",
       "0  {'entry': '.text', 'sections': [{'name': '.tex...   \n",
       "1  {'entry': '.text', 'sections': [{'name': '.tex...   \n",
       "2  {'entry': '.text', 'sections': [{'name': '.tex...   \n",
       "\n",
       "                                             imports exports  \\\n",
       "0  {'KERNEL32.dll': ['SetFileTime', 'CompareFileT...      []   \n",
       "1  {'ADVAPI32.dll': ['ConvertStringSecurityDescri...      []   \n",
       "2  {'ADVAPI32.dll': ['RegSetValueExA', 'RegDelete...      []   \n",
       "\n",
       "                                     datadirectories  \n",
       "0  [{'name': 'EXPORT_TABLE', 'size': 0, 'virtual_...  \n",
       "1  [{'name': 'EXPORT_TABLE', 'size': 0, 'virtual_...  \n",
       "2  [{'name': 'EXPORT_TABLE', 'size': 0, 'virtual_...  "
      ]
     },
     "execution_count": 61,
     "metadata": {},
     "output_type": "execute_result"
    }
   ],
   "source": [
    "df.head(3)"
   ]
  },
  {
   "cell_type": "code",
   "execution_count": null,
   "metadata": {},
   "outputs": [],
   "source": [
    "# # replace all ' with \" or json loading purposes ?\n",
    "# df.replace(\"\\'\", \"\\\"\",inplace=True)"
   ]
  },
  {
   "cell_type": "markdown",
   "metadata": {},
   "source": [
    "#### Explore: \"appeared\" feature [Train set]"
   ]
  },
  {
   "cell_type": "code",
   "execution_count": 62,
   "metadata": {},
   "outputs": [
    {
     "data": {
      "text/plain": [
       "2018-10    117222\n",
       "2018-09     85352\n",
       "2018-01     84702\n",
       "2018-02     73456\n",
       "2018-04     70962\n",
       "            ...  \n",
       "2008-01         1\n",
       "2008-09         1\n",
       "2007-04         1\n",
       "2007-01         1\n",
       "2006-12         1\n",
       "Name: appeared, Length: 139, dtype: int64"
      ]
     },
     "execution_count": 62,
     "metadata": {},
     "output_type": "execute_result"
    }
   ],
   "source": [
    "appeared_df = df.appeared\n",
    "appeared_df.info(verbose=True)"
   ]
  },
  {
   "cell_type": "code",
   "execution_count": null,
   "metadata": {},
   "outputs": [],
   "source": [
    "appeared_df.value_counts()"
   ]
  },
  {
   "cell_type": "markdown",
   "metadata": {},
   "source": [
    " <div class=\"alert alert-block alert-warning\">Note: even though we downloaded only 2018 data, there is some data which is not 2018</div>"
   ]
  },
  {
   "cell_type": "code",
   "execution_count": 66,
   "metadata": {},
   "outputs": [
    {
     "data": {
      "text/plain": [
       "0         2006-12\n",
       "1         2007-01\n",
       "2         2007-02\n",
       "3         2007-02\n",
       "4         2007-02\n",
       "           ...   \n",
       "799995    2018-10\n",
       "799996    2018-10\n",
       "799997    2018-10\n",
       "799998    2018-10\n",
       "799999    2018-10\n",
       "Name: appeared, Length: 800000, dtype: object"
      ]
     },
     "execution_count": 66,
     "metadata": {},
     "output_type": "execute_result"
    }
   ],
   "source": [
    "appeared_df = df.appeared\n",
    "appeared_df"
   ]
  },
  {
   "cell_type": "code",
   "execution_count": 68,
   "metadata": {},
   "outputs": [
    {
     "name": "stdout",
     "output_type": "stream",
     "text": [
      "number of records from 2018: 750000\n"
     ]
    },
    {
     "data": {
      "text/plain": [
       "2018-10    117222\n",
       "2018-09     85352\n",
       "2018-01     84702\n",
       "2018-02     73456\n",
       "2018-04     70962\n",
       "2018-07     70064\n",
       "2018-06     66195\n",
       "2018-05     63000\n",
       "2018-08     62118\n",
       "2018-03     56929\n",
       "Name: appeared, dtype: int64"
      ]
     },
     "execution_count": 68,
     "metadata": {},
     "output_type": "execute_result"
    }
   ],
   "source": [
    "appeared_df = appeared_df[appeared_df.str.contains('2018',case=False)]\n",
    "print(f'number of records from 2018: {len(appeared_df)}')\n",
    "appeared_df.value_counts()"
   ]
  },
  {
   "cell_type": "markdown",
   "metadata": {},
   "source": [
    "#### After what we learned, adjust training dataset to be only data from 2018"
   ]
  },
  {
   "cell_type": "code",
   "execution_count": 69,
   "metadata": {},
   "outputs": [
    {
     "name": "stdout",
     "output_type": "stream",
     "text": [
      "Wall time: 871 ms\n"
     ]
    },
    {
     "data": {
      "text/plain": [
       "(750000, 15)"
      ]
     },
     "execution_count": 69,
     "metadata": {},
     "output_type": "execute_result"
    }
   ],
   "source": [
    "%%time\n",
    "df = df[df.appeared.str.contains('2018',case=False)]\n",
    "df.shape"
   ]
  },
  {
   "cell_type": "markdown",
   "metadata": {},
   "source": [
    "#### Explore: \"general\" feature group  [Train set]"
   ]
  },
  {
   "cell_type": "code",
   "execution_count": null,
   "metadata": {},
   "outputs": [],
   "source": [
    "%%time\n",
    "general_df = df[['general']]\n",
    "general_df"
   ]
  },
  {
   "cell_type": "code",
   "execution_count": 114,
   "metadata": {},
   "outputs": [
    {
     "data": {
      "text/html": [
       "<div>\n",
       "<style scoped>\n",
       "    .dataframe tbody tr th:only-of-type {\n",
       "        vertical-align: middle;\n",
       "    }\n",
       "\n",
       "    .dataframe tbody tr th {\n",
       "        vertical-align: top;\n",
       "    }\n",
       "\n",
       "    .dataframe thead th {\n",
       "        text-align: right;\n",
       "    }\n",
       "</style>\n",
       "<table border=\"1\" class=\"dataframe\">\n",
       "  <thead>\n",
       "    <tr style=\"text-align: right;\">\n",
       "      <th></th>\n",
       "      <th>size</th>\n",
       "      <th>vsize</th>\n",
       "      <th>has_debug</th>\n",
       "      <th>exports</th>\n",
       "      <th>imports</th>\n",
       "      <th>has_relocations</th>\n",
       "      <th>has_resources</th>\n",
       "      <th>has_signature</th>\n",
       "      <th>has_tls</th>\n",
       "      <th>symbols</th>\n",
       "    </tr>\n",
       "  </thead>\n",
       "  <tbody>\n",
       "    <tr>\n",
       "      <th>0</th>\n",
       "      <td>349811</td>\n",
       "      <td>28672</td>\n",
       "      <td>0</td>\n",
       "      <td>0</td>\n",
       "      <td>55</td>\n",
       "      <td>0</td>\n",
       "      <td>1</td>\n",
       "      <td>0</td>\n",
       "      <td>0</td>\n",
       "      <td>0</td>\n",
       "    </tr>\n",
       "    <tr>\n",
       "      <th>1</th>\n",
       "      <td>33776</td>\n",
       "      <td>36864</td>\n",
       "      <td>0</td>\n",
       "      <td>0</td>\n",
       "      <td>33</td>\n",
       "      <td>0</td>\n",
       "      <td>1</td>\n",
       "      <td>0</td>\n",
       "      <td>0</td>\n",
       "      <td>0</td>\n",
       "    </tr>\n",
       "    <tr>\n",
       "      <th>2</th>\n",
       "      <td>161280</td>\n",
       "      <td>184320</td>\n",
       "      <td>0</td>\n",
       "      <td>0</td>\n",
       "      <td>155</td>\n",
       "      <td>1</td>\n",
       "      <td>1</td>\n",
       "      <td>0</td>\n",
       "      <td>0</td>\n",
       "      <td>0</td>\n",
       "    </tr>\n",
       "    <tr>\n",
       "      <th>3</th>\n",
       "      <td>6144</td>\n",
       "      <td>32768</td>\n",
       "      <td>0</td>\n",
       "      <td>0</td>\n",
       "      <td>1</td>\n",
       "      <td>1</td>\n",
       "      <td>1</td>\n",
       "      <td>0</td>\n",
       "      <td>0</td>\n",
       "      <td>0</td>\n",
       "    </tr>\n",
       "    <tr>\n",
       "      <th>4</th>\n",
       "      <td>1242112</td>\n",
       "      <td>1265664</td>\n",
       "      <td>1</td>\n",
       "      <td>0</td>\n",
       "      <td>85</td>\n",
       "      <td>0</td>\n",
       "      <td>1</td>\n",
       "      <td>0</td>\n",
       "      <td>1</td>\n",
       "      <td>0</td>\n",
       "    </tr>\n",
       "    <tr>\n",
       "      <th>...</th>\n",
       "      <td>...</td>\n",
       "      <td>...</td>\n",
       "      <td>...</td>\n",
       "      <td>...</td>\n",
       "      <td>...</td>\n",
       "      <td>...</td>\n",
       "      <td>...</td>\n",
       "      <td>...</td>\n",
       "      <td>...</td>\n",
       "      <td>...</td>\n",
       "    </tr>\n",
       "    <tr>\n",
       "      <th>749995</th>\n",
       "      <td>265728</td>\n",
       "      <td>278528</td>\n",
       "      <td>1</td>\n",
       "      <td>4</td>\n",
       "      <td>118</td>\n",
       "      <td>1</td>\n",
       "      <td>1</td>\n",
       "      <td>0</td>\n",
       "      <td>0</td>\n",
       "      <td>0</td>\n",
       "    </tr>\n",
       "    <tr>\n",
       "      <th>749996</th>\n",
       "      <td>214016</td>\n",
       "      <td>225280</td>\n",
       "      <td>1</td>\n",
       "      <td>4</td>\n",
       "      <td>104</td>\n",
       "      <td>1</td>\n",
       "      <td>1</td>\n",
       "      <td>0</td>\n",
       "      <td>0</td>\n",
       "      <td>0</td>\n",
       "    </tr>\n",
       "    <tr>\n",
       "      <th>749997</th>\n",
       "      <td>801367</td>\n",
       "      <td>3952640</td>\n",
       "      <td>0</td>\n",
       "      <td>0</td>\n",
       "      <td>0</td>\n",
       "      <td>0</td>\n",
       "      <td>0</td>\n",
       "      <td>0</td>\n",
       "      <td>0</td>\n",
       "      <td>0</td>\n",
       "    </tr>\n",
       "    <tr>\n",
       "      <th>749998</th>\n",
       "      <td>233984</td>\n",
       "      <td>241664</td>\n",
       "      <td>1</td>\n",
       "      <td>4</td>\n",
       "      <td>94</td>\n",
       "      <td>1</td>\n",
       "      <td>1</td>\n",
       "      <td>0</td>\n",
       "      <td>0</td>\n",
       "      <td>0</td>\n",
       "    </tr>\n",
       "    <tr>\n",
       "      <th>749999</th>\n",
       "      <td>232448</td>\n",
       "      <td>245760</td>\n",
       "      <td>1</td>\n",
       "      <td>4</td>\n",
       "      <td>95</td>\n",
       "      <td>1</td>\n",
       "      <td>1</td>\n",
       "      <td>0</td>\n",
       "      <td>0</td>\n",
       "      <td>0</td>\n",
       "    </tr>\n",
       "  </tbody>\n",
       "</table>\n",
       "<p>750000 rows × 10 columns</p>\n",
       "</div>"
      ],
      "text/plain": [
       "           size    vsize  has_debug  exports  imports  has_relocations  \\\n",
       "0        349811    28672          0        0       55                0   \n",
       "1         33776    36864          0        0       33                0   \n",
       "2        161280   184320          0        0      155                1   \n",
       "3          6144    32768          0        0        1                1   \n",
       "4       1242112  1265664          1        0       85                0   \n",
       "...         ...      ...        ...      ...      ...              ...   \n",
       "749995   265728   278528          1        4      118                1   \n",
       "749996   214016   225280          1        4      104                1   \n",
       "749997   801367  3952640          0        0        0                0   \n",
       "749998   233984   241664          1        4       94                1   \n",
       "749999   232448   245760          1        4       95                1   \n",
       "\n",
       "        has_resources  has_signature  has_tls  symbols  \n",
       "0                   1              0        0        0  \n",
       "1                   1              0        0        0  \n",
       "2                   1              0        0        0  \n",
       "3                   1              0        0        0  \n",
       "4                   1              0        1        0  \n",
       "...               ...            ...      ...      ...  \n",
       "749995              1              0        0        0  \n",
       "749996              1              0        0        0  \n",
       "749997              0              0        0        0  \n",
       "749998              1              0        0        0  \n",
       "749999              1              0        0        0  \n",
       "\n",
       "[750000 rows x 10 columns]"
      ]
     },
     "execution_count": 114,
     "metadata": {},
     "output_type": "execute_result"
    }
   ],
   "source": [
    "%%time\n",
    "# Massage the data a bit to create an understandable datframe\n",
    "general_df['general'] = general_df['general'].apply(ast.literal_eval)\n",
    "general_df_list = general_df['general'].to_list()\n",
    "flattened_general_df = pd.DataFrame(general_df_list)\n",
    "flattened_general_df"
   ]
  },
  {
   "cell_type": "code",
   "execution_count": 115,
   "metadata": {},
   "outputs": [
    {
     "name": "stdout",
     "output_type": "stream",
     "text": [
      "<class 'pandas.core.frame.DataFrame'>\n",
      "RangeIndex: 750000 entries, 0 to 749999\n",
      "Data columns (total 10 columns):\n",
      " #   Column           Non-Null Count   Dtype\n",
      "---  ------           --------------   -----\n",
      " 0   size             750000 non-null  int64\n",
      " 1   vsize            750000 non-null  int64\n",
      " 2   has_debug        750000 non-null  int64\n",
      " 3   exports          750000 non-null  int64\n",
      " 4   imports          750000 non-null  int64\n",
      " 5   has_relocations  750000 non-null  int64\n",
      " 6   has_resources    750000 non-null  int64\n",
      " 7   has_signature    750000 non-null  int64\n",
      " 8   has_tls          750000 non-null  int64\n",
      " 9   symbols          750000 non-null  int64\n",
      "dtypes: int64(10)\n",
      "memory usage: 57.2 MB\n"
     ]
    }
   ],
   "source": [
    "flattened_general_df.info(verbose=True)"
   ]
  },
  {
   "cell_type": "code",
   "execution_count": 118,
   "metadata": {},
   "outputs": [
    {
     "data": {
      "text/html": [
       "<div>\n",
       "<style scoped>\n",
       "    .dataframe tbody tr th:only-of-type {\n",
       "        vertical-align: middle;\n",
       "    }\n",
       "\n",
       "    .dataframe tbody tr th {\n",
       "        vertical-align: top;\n",
       "    }\n",
       "\n",
       "    .dataframe thead th {\n",
       "        text-align: right;\n",
       "    }\n",
       "</style>\n",
       "<table border=\"1\" class=\"dataframe\">\n",
       "  <thead>\n",
       "    <tr style=\"text-align: right;\">\n",
       "      <th></th>\n",
       "      <th>size</th>\n",
       "      <th>vsize</th>\n",
       "      <th>has_debug</th>\n",
       "      <th>exports</th>\n",
       "      <th>imports</th>\n",
       "      <th>has_relocations</th>\n",
       "      <th>has_resources</th>\n",
       "      <th>has_signature</th>\n",
       "      <th>has_tls</th>\n",
       "      <th>symbols</th>\n",
       "    </tr>\n",
       "  </thead>\n",
       "  <tbody>\n",
       "    <tr>\n",
       "      <th>count</th>\n",
       "      <td>7.500000e+05</td>\n",
       "      <td>7.500000e+05</td>\n",
       "      <td>750000.000000</td>\n",
       "      <td>750000.000000</td>\n",
       "      <td>750000.000000</td>\n",
       "      <td>750000.000000</td>\n",
       "      <td>750000.000000</td>\n",
       "      <td>750000.000000</td>\n",
       "      <td>750000.000000</td>\n",
       "      <td>750000.000000</td>\n",
       "    </tr>\n",
       "    <tr>\n",
       "      <th>mean</th>\n",
       "      <td>1.491415e+06</td>\n",
       "      <td>1.828388e+06</td>\n",
       "      <td>0.390128</td>\n",
       "      <td>28.428040</td>\n",
       "      <td>107.265689</td>\n",
       "      <td>0.533879</td>\n",
       "      <td>0.874384</td>\n",
       "      <td>0.243287</td>\n",
       "      <td>0.214241</td>\n",
       "      <td>39.734143</td>\n",
       "    </tr>\n",
       "    <tr>\n",
       "      <th>std</th>\n",
       "      <td>5.036643e+06</td>\n",
       "      <td>1.195588e+07</td>\n",
       "      <td>0.487779</td>\n",
       "      <td>440.556489</td>\n",
       "      <td>226.120793</td>\n",
       "      <td>0.498851</td>\n",
       "      <td>0.331416</td>\n",
       "      <td>0.429067</td>\n",
       "      <td>0.410295</td>\n",
       "      <td>1333.623495</td>\n",
       "    </tr>\n",
       "    <tr>\n",
       "      <th>min</th>\n",
       "      <td>2.340000e+02</td>\n",
       "      <td>5.120000e+02</td>\n",
       "      <td>0.000000</td>\n",
       "      <td>0.000000</td>\n",
       "      <td>0.000000</td>\n",
       "      <td>0.000000</td>\n",
       "      <td>0.000000</td>\n",
       "      <td>0.000000</td>\n",
       "      <td>0.000000</td>\n",
       "      <td>0.000000</td>\n",
       "    </tr>\n",
       "    <tr>\n",
       "      <th>25%</th>\n",
       "      <td>1.138930e+05</td>\n",
       "      <td>1.146880e+05</td>\n",
       "      <td>0.000000</td>\n",
       "      <td>0.000000</td>\n",
       "      <td>1.000000</td>\n",
       "      <td>0.000000</td>\n",
       "      <td>1.000000</td>\n",
       "      <td>0.000000</td>\n",
       "      <td>0.000000</td>\n",
       "      <td>0.000000</td>\n",
       "    </tr>\n",
       "    <tr>\n",
       "      <th>50%</th>\n",
       "      <td>4.776960e+05</td>\n",
       "      <td>4.014080e+05</td>\n",
       "      <td>0.000000</td>\n",
       "      <td>0.000000</td>\n",
       "      <td>42.000000</td>\n",
       "      <td>1.000000</td>\n",
       "      <td>1.000000</td>\n",
       "      <td>0.000000</td>\n",
       "      <td>0.000000</td>\n",
       "      <td>0.000000</td>\n",
       "    </tr>\n",
       "    <tr>\n",
       "      <th>75%</th>\n",
       "      <td>1.251328e+06</td>\n",
       "      <td>1.339392e+06</td>\n",
       "      <td>1.000000</td>\n",
       "      <td>0.000000</td>\n",
       "      <td>143.000000</td>\n",
       "      <td>1.000000</td>\n",
       "      <td>1.000000</td>\n",
       "      <td>0.000000</td>\n",
       "      <td>0.000000</td>\n",
       "      <td>0.000000</td>\n",
       "    </tr>\n",
       "    <tr>\n",
       "      <th>max</th>\n",
       "      <td>5.361300e+08</td>\n",
       "      <td>4.278288e+09</td>\n",
       "      <td>1.000000</td>\n",
       "      <td>52653.000000</td>\n",
       "      <td>22092.000000</td>\n",
       "      <td>1.000000</td>\n",
       "      <td>1.000000</td>\n",
       "      <td>1.000000</td>\n",
       "      <td>1.000000</td>\n",
       "      <td>266130.000000</td>\n",
       "    </tr>\n",
       "  </tbody>\n",
       "</table>\n",
       "</div>"
      ],
      "text/plain": [
       "               size         vsize      has_debug        exports  \\\n",
       "count  7.500000e+05  7.500000e+05  750000.000000  750000.000000   \n",
       "mean   1.491415e+06  1.828388e+06       0.390128      28.428040   \n",
       "std    5.036643e+06  1.195588e+07       0.487779     440.556489   \n",
       "min    2.340000e+02  5.120000e+02       0.000000       0.000000   \n",
       "25%    1.138930e+05  1.146880e+05       0.000000       0.000000   \n",
       "50%    4.776960e+05  4.014080e+05       0.000000       0.000000   \n",
       "75%    1.251328e+06  1.339392e+06       1.000000       0.000000   \n",
       "max    5.361300e+08  4.278288e+09       1.000000   52653.000000   \n",
       "\n",
       "             imports  has_relocations  has_resources  has_signature  \\\n",
       "count  750000.000000    750000.000000  750000.000000  750000.000000   \n",
       "mean      107.265689         0.533879       0.874384       0.243287   \n",
       "std       226.120793         0.498851       0.331416       0.429067   \n",
       "min         0.000000         0.000000       0.000000       0.000000   \n",
       "25%         1.000000         0.000000       1.000000       0.000000   \n",
       "50%        42.000000         1.000000       1.000000       0.000000   \n",
       "75%       143.000000         1.000000       1.000000       0.000000   \n",
       "max     22092.000000         1.000000       1.000000       1.000000   \n",
       "\n",
       "             has_tls        symbols  \n",
       "count  750000.000000  750000.000000  \n",
       "mean        0.214241      39.734143  \n",
       "std         0.410295    1333.623495  \n",
       "min         0.000000       0.000000  \n",
       "25%         0.000000       0.000000  \n",
       "50%         0.000000       0.000000  \n",
       "75%         0.000000       0.000000  \n",
       "max         1.000000  266130.000000  "
      ]
     },
     "execution_count": 118,
     "metadata": {},
     "output_type": "execute_result"
    }
   ],
   "source": [
    "flattened_general_df.describe(include='all')  "
   ]
  },
  {
   "cell_type": "code",
   "execution_count": 119,
   "metadata": {},
   "outputs": [
    {
     "data": {
      "text/plain": [
       "Text(0.5, 1.0, 'Correlation matrix of all the features')"
      ]
     },
     "execution_count": 119,
     "metadata": {},
     "output_type": "execute_result"
    },
    {
     "data": {
      "image/png": "[encoded data removed]",
      "text/plain": [
       "<Figure size 1080x1080 with 2 Axes>"
      ]
     },
     "metadata": {
      "needs_background": "light"
     },
     "output_type": "display_data"
    }
   ],
   "source": [
    "plt.figure(figsize=(15, 15))\n",
    "sns.heatmap(flattened_general_df.corr(),cmap='coolwarm',annot = True)\n",
    "plt.title('Correlation matrix of all the features')"
   ]
  },
  {
   "cell_type": "code",
   "execution_count": null,
   "metadata": {},
   "outputs": [],
   "source": [
    "sns.pairplot(flattened_general_df, hue=\"label\", diag_kind=\"kde\")"
   ]
  },
  {
   "cell_type": "code",
   "execution_count": 120,
   "metadata": {},
   "outputs": [
    {
     "data": {
      "text/plain": [
       "Text(0.5, 1.0, 'box plot of size feature')"
      ]
     },
     "execution_count": 120,
     "metadata": {},
     "output_type": "execute_result"
    },
    {
     "data": {
      "image/png": "[encoded data removed]",
      "text/plain": [
       "<Figure size 432x288 with 1 Axes>"
      ]
     },
     "metadata": {
      "needs_background": "light"
     },
     "output_type": "display_data"
    }
   ],
   "source": [
    "plt.figure()\n",
    "ax = sns.boxplot(x=\"size\", data=flattened_general_df)\n",
    "plt.title('box plot of size feature')"
   ]
  },
  {
   "cell_type": "code",
   "execution_count": null,
   "metadata": {},
   "outputs": [],
   "source": [
    "plt.figure()\n",
    "ax = sns.histplot(x=\"size\", data=flattened_general_df, bins=100)\n",
    "plt.title('histogram plot of NOX feature')\n",
    "plt.grid()"
   ]
  },
  {
   "cell_type": "code",
   "execution_count": null,
   "metadata": {},
   "outputs": [],
   "source": [
    "ax= sns.jointplot(x=flattened_general_df.size, y=flattened_general_df.exports, marginal_kws=dict(bins=100))\n",
    "ax.fig.suptitle('Joint plot')"
   ]
  },
  {
   "cell_type": "markdown",
   "metadata": {},
   "source": [
    "# TODO: add the label to the dataframe !?"
   ]
  },
  {
   "cell_type": "code",
   "execution_count": null,
   "metadata": {},
   "outputs": [],
   "source": []
  },
  {
   "cell_type": "code",
   "execution_count": null,
   "metadata": {},
   "outputs": [],
   "source": []
  },
  {
   "cell_type": "markdown",
   "metadata": {},
   "source": [
    "#### Explore: \"bla bla\" feature  [Train set]"
   ]
  },
  {
   "cell_type": "code",
   "execution_count": null,
   "metadata": {},
   "outputs": [],
   "source": []
  },
  {
   "cell_type": "markdown",
   "metadata": {},
   "source": [
    "### Explore Test Set  [Train set]"
   ]
  },
  {
   "cell_type": "code",
   "execution_count": null,
   "metadata": {},
   "outputs": [],
   "source": []
  },
  {
   "cell_type": "markdown",
   "metadata": {},
   "source": [
    "hi"
   ]
  },
  {
   "cell_type": "code",
   "execution_count": null,
   "metadata": {},
   "outputs": [],
   "source": []
  }
 ],
 "metadata": {
  "kernelspec": {
   "display_name": "Python 3 (ipykernel)",
   "language": "python",
   "name": "python3"
  },
  "language_info": {
   "codemirror_mode": {
    "name": "ipython",
    "version": 3
   },
   "file_extension": ".py",
   "mimetype": "text/x-python",
   "name": "python",
   "nbconvert_exporter": "python",
   "pygments_lexer": "ipython3",
   "version": "3.8.5"
  }
 },
 "nbformat": 4,
 "nbformat_minor": 4
}
